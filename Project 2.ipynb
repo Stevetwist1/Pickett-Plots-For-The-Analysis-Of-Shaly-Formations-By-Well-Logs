{
 "cells": [
  {
   "cell_type": "code",
   "execution_count": 1,
   "metadata": {},
   "outputs": [],
   "source": [
    "import pandas as pd\n",
    "import matplotlib.pyplot as plt"
   ]
  },
  {
   "cell_type": "code",
   "execution_count": 2,
   "metadata": {},
   "outputs": [],
   "source": [
    "a = 1\n",
    "Rw = 0.04\n",
    "m = 1.8\n",
    "n = 2\n",
    "c1 = 0.45\n",
    "c2 = 250\n",
    "c3 = 2.1\n",
    "c4 = 2\n",
    "c5 = 19.5\n",
    "c6 = 1.7\n",
    "Sw_1 = 1\n",
    "Sw_50 = 0.5\n",
    "Sw_25 = 0.25\n",
    "CPS_20k = 20000\n",
    "CPS_2k = 2000\n",
    "CPS_200 = 200\n",
    "CPS_20 = 20"
   ]
  },
  {
   "cell_type": "code",
   "execution_count": 3,
   "metadata": {},
   "outputs": [
    {
     "data": {
      "text/html": [
       "<div>\n",
       "<style scoped>\n",
       "    .dataframe tbody tr th:only-of-type {\n",
       "        vertical-align: middle;\n",
       "    }\n",
       "\n",
       "    .dataframe tbody tr th {\n",
       "        vertical-align: top;\n",
       "    }\n",
       "\n",
       "    .dataframe thead th {\n",
       "        text-align: right;\n",
       "    }\n",
       "</style>\n",
       "<table border=\"1\" class=\"dataframe\">\n",
       "  <thead>\n",
       "    <tr style=\"text-align: right;\">\n",
       "      <th></th>\n",
       "      <th>Porosity</th>\n",
       "    </tr>\n",
       "  </thead>\n",
       "  <tbody>\n",
       "    <tr>\n",
       "      <th>0</th>\n",
       "      <td>0.01</td>\n",
       "    </tr>\n",
       "    <tr>\n",
       "      <th>1</th>\n",
       "      <td>1.00</td>\n",
       "    </tr>\n",
       "  </tbody>\n",
       "</table>\n",
       "</div>"
      ],
      "text/plain": [
       "   Porosity\n",
       "0      0.01\n",
       "1      1.00"
      ]
     },
     "execution_count": 3,
     "metadata": {},
     "output_type": "execute_result"
    }
   ],
   "source": [
    "data = {'Porosity': [0.01, 1]}\n",
    "df = pd.DataFrame (data)\n",
    "df.head()"
   ]
  },
  {
   "cell_type": "code",
   "execution_count": 4,
   "metadata": {},
   "outputs": [],
   "source": [
    "def Rt (a, Rw, m, n, Sw, Porosity):\n",
    "    Rt = a * Rw * Porosity**(-m) * Sw**(-n)\n",
    "    return Rt"
   ]
  },
  {
   "cell_type": "code",
   "execution_count": 5,
   "metadata": {},
   "outputs": [
    {
     "data": {
      "text/html": [
       "<div>\n",
       "<style scoped>\n",
       "    .dataframe tbody tr th:only-of-type {\n",
       "        vertical-align: middle;\n",
       "    }\n",
       "\n",
       "    .dataframe tbody tr th {\n",
       "        vertical-align: top;\n",
       "    }\n",
       "\n",
       "    .dataframe thead th {\n",
       "        text-align: right;\n",
       "    }\n",
       "</style>\n",
       "<table border=\"1\" class=\"dataframe\">\n",
       "  <thead>\n",
       "    <tr style=\"text-align: right;\">\n",
       "      <th></th>\n",
       "      <th>Porosity</th>\n",
       "      <th>Rt_at_Sw_1</th>\n",
       "      <th>Rt_at_Sw_50</th>\n",
       "      <th>Rt_at_Sw_25</th>\n",
       "    </tr>\n",
       "  </thead>\n",
       "  <tbody>\n",
       "    <tr>\n",
       "      <th>0</th>\n",
       "      <td>0.01</td>\n",
       "      <td>159.242868</td>\n",
       "      <td>636.971473</td>\n",
       "      <td>2547.885892</td>\n",
       "    </tr>\n",
       "    <tr>\n",
       "      <th>1</th>\n",
       "      <td>1.00</td>\n",
       "      <td>0.040000</td>\n",
       "      <td>0.160000</td>\n",
       "      <td>0.640000</td>\n",
       "    </tr>\n",
       "  </tbody>\n",
       "</table>\n",
       "</div>"
      ],
      "text/plain": [
       "   Porosity  Rt_at_Sw_1  Rt_at_Sw_50  Rt_at_Sw_25\n",
       "0      0.01  159.242868   636.971473  2547.885892\n",
       "1      1.00    0.040000     0.160000     0.640000"
      ]
     },
     "execution_count": 5,
     "metadata": {},
     "output_type": "execute_result"
    }
   ],
   "source": [
    "df['Rt_at_Sw_1'] = Rt (a, Rw, m, n, Sw_1, df['Porosity'])\n",
    "df['Rt_at_Sw_50'] = Rt (a, Rw, m, n, Sw_50, df['Porosity'])\n",
    "df['Rt_at_Sw_25'] = Rt (a, Rw, m, n, Sw_25, df['Porosity'])\n",
    "df.head()"
   ]
  },
  {
   "cell_type": "code",
   "execution_count": 24,
   "metadata": {},
   "outputs": [
    {
     "data": {
      "image/png": "[encoded data removed]",
      "text/plain": [
       "<Figure size 432x432 with 1 Axes>"
      ]
     },
     "metadata": {
      "needs_background": "light"
     },
     "output_type": "display_data"
    }
   ],
   "source": [
    "fig, ax = plt.subplots(figsize=(6,6))\n",
    "ax.plot(df['Rt_at_Sw_1'], df['Porosity'], color='darkblue', linestyle = '-')\n",
    "ax.plot(df['Rt_at_Sw_50'], df['Porosity'], color='darkblue', linestyle = '-')\n",
    "ax.plot(df['Rt_at_Sw_25'], df['Porosity'], color='darkblue', linestyle = '-')\n",
    "ax.set_ylabel('Porosity')\n",
    "ax.set_xlabel('Resistivity Ohm-m')\n",
    "ax.grid()\n",
    "ax.set_yscale('log')\n",
    "ax.set_xscale('log')\n",
    "ax.set_xlim(0.01,100)\n",
    "ax.set_ylim(0.01,1)\n",
    "ax.grid()"
   ]
  },
  {
   "cell_type": "code",
   "execution_count": 7,
   "metadata": {},
   "outputs": [
    {
     "data": {
      "text/html": [
       "<div>\n",
       "<style scoped>\n",
       "    .dataframe tbody tr th:only-of-type {\n",
       "        vertical-align: middle;\n",
       "    }\n",
       "\n",
       "    .dataframe tbody tr th {\n",
       "        vertical-align: top;\n",
       "    }\n",
       "\n",
       "    .dataframe thead th {\n",
       "        text-align: right;\n",
       "    }\n",
       "</style>\n",
       "<table border=\"1\" class=\"dataframe\">\n",
       "  <thead>\n",
       "    <tr style=\"text-align: right;\">\n",
       "      <th></th>\n",
       "      <th>ZONE</th>\n",
       "      <th>Rt</th>\n",
       "      <th>PHI</th>\n",
       "    </tr>\n",
       "  </thead>\n",
       "  <tbody>\n",
       "    <tr>\n",
       "      <th>1</th>\n",
       "      <td>2</td>\n",
       "      <td>3.1</td>\n",
       "      <td>0.210</td>\n",
       "    </tr>\n",
       "    <tr>\n",
       "      <th>2</th>\n",
       "      <td>3</td>\n",
       "      <td>2.2</td>\n",
       "      <td>0.170</td>\n",
       "    </tr>\n",
       "    <tr>\n",
       "      <th>3</th>\n",
       "      <td>4</td>\n",
       "      <td>1.0</td>\n",
       "      <td>0.160</td>\n",
       "    </tr>\n",
       "    <tr>\n",
       "      <th>4</th>\n",
       "      <td>5</td>\n",
       "      <td>3.5</td>\n",
       "      <td>0.080</td>\n",
       "    </tr>\n",
       "    <tr>\n",
       "      <th>5</th>\n",
       "      <td>A</td>\n",
       "      <td>10.0</td>\n",
       "      <td>0.046</td>\n",
       "    </tr>\n",
       "  </tbody>\n",
       "</table>\n",
       "</div>"
      ],
      "text/plain": [
       "  ZONE    Rt    PHI\n",
       "1    2   3.1  0.210\n",
       "2    3   2.2  0.170\n",
       "3    4   1.0  0.160\n",
       "4    5   3.5  0.080\n",
       "5    A  10.0  0.046"
      ]
     },
     "execution_count": 7,
     "metadata": {},
     "output_type": "execute_result"
    }
   ],
   "source": [
    "data2 = {'ZONE': [1, 2, 3, 4, 5, 'A'],\n",
    "        'Rt': [4, 3.1, 2.2, 1, 3.5, 10],\n",
    "        'PHI': [0.176, 0.21, 0.17, 0.16, 0.08,0.046]}\n",
    "df2 = pd.DataFrame (data2)\n",
    "df2.tail()"
   ]
  },
  {
   "cell_type": "code",
   "execution_count": 8,
   "metadata": {},
   "outputs": [
    {
     "data": {
      "image/png": "[encoded data removed]",
      "text/plain": [
       "<Figure size 432x432 with 1 Axes>"
      ]
     },
     "metadata": {
      "needs_background": "light"
     },
     "output_type": "display_data"
    }
   ],
   "source": [
    "#Question 3\n",
    "fig, ax = plt.subplots(figsize=(6,6))\n",
    "ax.plot(df['Rt_at_Sw_1'], df['Porosity'], color='darkblue', linestyle = '-')\n",
    "ax.plot(df['Rt_at_Sw_50'], df['Porosity'], color='darkblue', linestyle = '-')\n",
    "ax.plot(df['Rt_at_Sw_25'], df['Porosity'], color='darkblue', linestyle = '-')\n",
    "ax.scatter(df2['Rt'], df2['PHI'], color='black', linestyle = '-')\n",
    "ax.set_ylabel('Porosity')\n",
    "ax.set_xlabel('Resistivity Ohm-m')\n",
    "ax.grid()\n",
    "ax.set_yscale('log')\n",
    "ax.set_xscale('log')\n",
    "ax.set_xlim(0.01,100)\n",
    "ax.set_ylim(0.01,1)\n",
    "ax.grid()"
   ]
  },
  {
   "cell_type": "code",
   "execution_count": 9,
   "metadata": {},
   "outputs": [
    {
     "data": {
      "text/plain": [
       "1.8"
      ]
     },
     "execution_count": 9,
     "metadata": {},
     "output_type": "execute_result"
    }
   ],
   "source": [
    "#Question 1 Value of m is the slope of line Rt at 100%Sw = (logy2-logy1)/(logx2-logx1)\n",
    "slope = m;\n",
    "m"
   ]
  },
  {
   "cell_type": "code",
   "execution_count": 10,
   "metadata": {},
   "outputs": [
    {
     "data": {
      "text/plain": [
       "0.04"
      ]
     },
     "execution_count": 10,
     "metadata": {},
     "output_type": "execute_result"
    }
   ],
   "source": [
    "#Question 2\n",
    "a*Rw"
   ]
  },
  {
   "cell_type": "code",
   "execution_count": 11,
   "metadata": {},
   "outputs": [
    {
     "data": {
      "text/html": [
       "<div>\n",
       "<style scoped>\n",
       "    .dataframe tbody tr th:only-of-type {\n",
       "        vertical-align: middle;\n",
       "    }\n",
       "\n",
       "    .dataframe tbody tr th {\n",
       "        vertical-align: top;\n",
       "    }\n",
       "\n",
       "    .dataframe thead th {\n",
       "        text-align: right;\n",
       "    }\n",
       "</style>\n",
       "<table border=\"1\" class=\"dataframe\">\n",
       "  <thead>\n",
       "    <tr style=\"text-align: right;\">\n",
       "      <th></th>\n",
       "      <th>Porosity</th>\n",
       "    </tr>\n",
       "  </thead>\n",
       "  <tbody>\n",
       "    <tr>\n",
       "      <th>0</th>\n",
       "      <td>0.01</td>\n",
       "    </tr>\n",
       "    <tr>\n",
       "      <th>1</th>\n",
       "      <td>1.00</td>\n",
       "    </tr>\n",
       "  </tbody>\n",
       "</table>\n",
       "</div>"
      ],
      "text/plain": [
       "   Porosity\n",
       "0      0.01\n",
       "1      1.00"
      ]
     },
     "execution_count": 11,
     "metadata": {},
     "output_type": "execute_result"
    }
   ],
   "source": [
    "#Question 4\n",
    "data3 = {'Porosity': [0.01, 1]}\n",
    "df3 = pd.DataFrame (data3)\n",
    "df3.head()"
   ]
  },
  {
   "cell_type": "code",
   "execution_count": 12,
   "metadata": {},
   "outputs": [],
   "source": [
    "def Rt_process_speed (a, Rw, m, n, CPS, c2, c3, c4, Porosity):\n",
    "    Rt_process_speed = a * Rw * Porosity**(-(m+c3*n-n/c4))*c2**(-n)*CPS**(n/c4)\n",
    "    return Rt_process_speed"
   ]
  },
  {
   "cell_type": "code",
   "execution_count": 13,
   "metadata": {},
   "outputs": [
    {
     "data": {
      "text/html": [
       "<div>\n",
       "<style scoped>\n",
       "    .dataframe tbody tr th:only-of-type {\n",
       "        vertical-align: middle;\n",
       "    }\n",
       "\n",
       "    .dataframe tbody tr th {\n",
       "        vertical-align: top;\n",
       "    }\n",
       "\n",
       "    .dataframe thead th {\n",
       "        text-align: right;\n",
       "    }\n",
       "</style>\n",
       "<table border=\"1\" class=\"dataframe\">\n",
       "  <thead>\n",
       "    <tr style=\"text-align: right;\">\n",
       "      <th></th>\n",
       "      <th>Porosity</th>\n",
       "      <th>Rt_at_CPS_20000</th>\n",
       "      <th>Rt_at_CPS_2000</th>\n",
       "      <th>Rt_at_CPS_200</th>\n",
       "      <th>Rt_at_CPS_20</th>\n",
       "    </tr>\n",
       "  </thead>\n",
       "  <tbody>\n",
       "    <tr>\n",
       "      <th>0</th>\n",
       "      <td>0.01</td>\n",
       "      <td>1.280000e+08</td>\n",
       "      <td>1.280000e+07</td>\n",
       "      <td>1.280000e+06</td>\n",
       "      <td>128000.000000</td>\n",
       "    </tr>\n",
       "    <tr>\n",
       "      <th>1</th>\n",
       "      <td>1.00</td>\n",
       "      <td>1.280000e-02</td>\n",
       "      <td>1.280000e-03</td>\n",
       "      <td>1.280000e-04</td>\n",
       "      <td>0.000013</td>\n",
       "    </tr>\n",
       "  </tbody>\n",
       "</table>\n",
       "</div>"
      ],
      "text/plain": [
       "   Porosity  Rt_at_CPS_20000  Rt_at_CPS_2000  Rt_at_CPS_200   Rt_at_CPS_20\n",
       "0      0.01     1.280000e+08    1.280000e+07   1.280000e+06  128000.000000\n",
       "1      1.00     1.280000e-02    1.280000e-03   1.280000e-04       0.000013"
      ]
     },
     "execution_count": 13,
     "metadata": {},
     "output_type": "execute_result"
    }
   ],
   "source": [
    "df3['Rt_at_CPS_20000'] = Rt_process_speed (a, Rw, m, n, CPS_20k, c2, c3, c4, df3['Porosity'])\n",
    "df3['Rt_at_CPS_2000'] = Rt_process_speed (a, Rw, m, n, CPS_2k, c2, c3, c4, df3['Porosity'])\n",
    "df3['Rt_at_CPS_200'] = Rt_process_speed (a, Rw, m, n, CPS_200, c2, c3, c4, df3['Porosity'])\n",
    "df3['Rt_at_CPS_20'] = Rt_process_speed (a, Rw, m, n, CPS_20, c2, c3, c4, df3['Porosity'])\n",
    "df3.head()"
   ]
  },
  {
   "cell_type": "code",
   "execution_count": 16,
   "metadata": {},
   "outputs": [
    {
     "data": {
      "image/png": "[encoded data removed]",
      "text/plain": [
       "<Figure size 432x432 with 1 Axes>"
      ]
     },
     "metadata": {
      "needs_background": "light"
     },
     "output_type": "display_data"
    }
   ],
   "source": [
    "fig, ax = plt.subplots(figsize=(6,6))\n",
    "ax.plot(df['Rt_at_Sw_1'], df['Porosity'], color='darkblue', linestyle = '-')\n",
    "ax.plot(df['Rt_at_Sw_50'], df['Porosity'], color='darkblue', linestyle = '-')\n",
    "ax.plot(df['Rt_at_Sw_25'], df['Porosity'], color='darkblue', linestyle = '-')\n",
    "ax.scatter(df2['Rt'], df2['PHI'], color='black', linestyle = '-')\n",
    "ax.plot(df3['Rt_at_CPS_20000'], df3['Porosity'], color='red', linestyle = '-')\n",
    "ax.plot(df3['Rt_at_CPS_2000'], df3['Porosity'], color='blue', linestyle = '-')\n",
    "ax.plot(df3['Rt_at_CPS_200'], df3['Porosity'], color='green', linestyle = '-')\n",
    "ax.plot(df3['Rt_at_CPS_20'], df3['Porosity'], color='yellow', linestyle = '-')\n",
    "ax.set_ylabel('Porosity')\n",
    "ax.set_xlabel('Resistivity Ohm-m')\n",
    "ax.grid()\n",
    "ax.set_yscale('log')\n",
    "ax.set_xscale('log')\n",
    "ax.set_xlim(0.01,100)\n",
    "ax.set_ylim(0.01,1)\n",
    "ax.grid()"
   ]
  },
  {
   "cell_type": "code",
   "execution_count": 15,
   "metadata": {},
   "outputs": [],
   "source": [
    "#Question5\n",
    "def A (c5, Sw, c6):\n",
    "    A = c5 * Sw ** (-c6)\n",
    "    return A"
   ]
  },
  {
   "cell_type": "code",
   "execution_count": 17,
   "metadata": {},
   "outputs": [],
   "source": [
    "def Pc (A, CPS, c1):\n",
    "    Pc = A * (CPS/100) ** (-c1)\n",
    "    return Pc"
   ]
  },
  {
   "cell_type": "code",
   "execution_count": 18,
   "metadata": {},
   "outputs": [
    {
     "data": {
      "text/html": [
       "<div>\n",
       "<style scoped>\n",
       "    .dataframe tbody tr th:only-of-type {\n",
       "        vertical-align: middle;\n",
       "    }\n",
       "\n",
       "    .dataframe tbody tr th {\n",
       "        vertical-align: top;\n",
       "    }\n",
       "\n",
       "    .dataframe thead th {\n",
       "        text-align: right;\n",
       "    }\n",
       "</style>\n",
       "<table border=\"1\" class=\"dataframe\">\n",
       "  <thead>\n",
       "    <tr style=\"text-align: right;\">\n",
       "      <th></th>\n",
       "      <th>Sw</th>\n",
       "    </tr>\n",
       "  </thead>\n",
       "  <tbody>\n",
       "    <tr>\n",
       "      <th>0</th>\n",
       "      <td>0.0</td>\n",
       "    </tr>\n",
       "    <tr>\n",
       "      <th>1</th>\n",
       "      <td>0.1</td>\n",
       "    </tr>\n",
       "    <tr>\n",
       "      <th>2</th>\n",
       "      <td>0.2</td>\n",
       "    </tr>\n",
       "    <tr>\n",
       "      <th>3</th>\n",
       "      <td>0.3</td>\n",
       "    </tr>\n",
       "    <tr>\n",
       "      <th>4</th>\n",
       "      <td>0.4</td>\n",
       "    </tr>\n",
       "  </tbody>\n",
       "</table>\n",
       "</div>"
      ],
      "text/plain": [
       "    Sw\n",
       "0  0.0\n",
       "1  0.1\n",
       "2  0.2\n",
       "3  0.3\n",
       "4  0.4"
      ]
     },
     "execution_count": 18,
     "metadata": {},
     "output_type": "execute_result"
    }
   ],
   "source": [
    "data4 = {'Sw': [0.0, 0.1, 0.2, 0.3, 0.4, 0.5, 0.6, 0.7, 0.8, 0.9, 1.0]}\n",
    "df4 = pd.DataFrame (data4)\n",
    "df4.head()"
   ]
  },
  {
   "cell_type": "code",
   "execution_count": 19,
   "metadata": {},
   "outputs": [
    {
     "data": {
      "text/html": [
       "<div>\n",
       "<style scoped>\n",
       "    .dataframe tbody tr th:only-of-type {\n",
       "        vertical-align: middle;\n",
       "    }\n",
       "\n",
       "    .dataframe tbody tr th {\n",
       "        vertical-align: top;\n",
       "    }\n",
       "\n",
       "    .dataframe thead th {\n",
       "        text-align: right;\n",
       "    }\n",
       "</style>\n",
       "<table border=\"1\" class=\"dataframe\">\n",
       "  <thead>\n",
       "    <tr style=\"text-align: right;\">\n",
       "      <th></th>\n",
       "      <th>Sw</th>\n",
       "      <th>A</th>\n",
       "    </tr>\n",
       "  </thead>\n",
       "  <tbody>\n",
       "    <tr>\n",
       "      <th>0</th>\n",
       "      <td>0.0</td>\n",
       "      <td>inf</td>\n",
       "    </tr>\n",
       "    <tr>\n",
       "      <th>1</th>\n",
       "      <td>0.1</td>\n",
       "      <td>977.315106</td>\n",
       "    </tr>\n",
       "    <tr>\n",
       "      <th>2</th>\n",
       "      <td>0.2</td>\n",
       "      <td>300.804008</td>\n",
       "    </tr>\n",
       "    <tr>\n",
       "      <th>3</th>\n",
       "      <td>0.3</td>\n",
       "      <td>150.983149</td>\n",
       "    </tr>\n",
       "    <tr>\n",
       "      <th>4</th>\n",
       "      <td>0.4</td>\n",
       "      <td>92.583294</td>\n",
       "    </tr>\n",
       "  </tbody>\n",
       "</table>\n",
       "</div>"
      ],
      "text/plain": [
       "    Sw           A\n",
       "0  0.0         inf\n",
       "1  0.1  977.315106\n",
       "2  0.2  300.804008\n",
       "3  0.3  150.983149\n",
       "4  0.4   92.583294"
      ]
     },
     "execution_count": 19,
     "metadata": {},
     "output_type": "execute_result"
    }
   ],
   "source": [
    "df4['A'] = A (c5, df4['Sw'], c6)\n",
    "df4.head()"
   ]
  },
  {
   "cell_type": "code",
   "execution_count": 20,
   "metadata": {},
   "outputs": [
    {
     "data": {
      "text/html": [
       "<div>\n",
       "<style scoped>\n",
       "    .dataframe tbody tr th:only-of-type {\n",
       "        vertical-align: middle;\n",
       "    }\n",
       "\n",
       "    .dataframe tbody tr th {\n",
       "        vertical-align: top;\n",
       "    }\n",
       "\n",
       "    .dataframe thead th {\n",
       "        text-align: right;\n",
       "    }\n",
       "</style>\n",
       "<table border=\"1\" class=\"dataframe\">\n",
       "  <thead>\n",
       "    <tr style=\"text-align: right;\">\n",
       "      <th></th>\n",
       "      <th>Sw</th>\n",
       "      <th>A</th>\n",
       "      <th>Pc_2000</th>\n",
       "      <th>Pc_200</th>\n",
       "      <th>Pc_20</th>\n",
       "    </tr>\n",
       "  </thead>\n",
       "  <tbody>\n",
       "    <tr>\n",
       "      <th>0</th>\n",
       "      <td>0.0</td>\n",
       "      <td>inf</td>\n",
       "      <td>inf</td>\n",
       "      <td>inf</td>\n",
       "      <td>inf</td>\n",
       "    </tr>\n",
       "    <tr>\n",
       "      <th>1</th>\n",
       "      <td>0.1</td>\n",
       "      <td>977.315106</td>\n",
       "      <td>253.846461</td>\n",
       "      <td>715.436533</td>\n",
       "      <td>2016.374114</td>\n",
       "    </tr>\n",
       "    <tr>\n",
       "      <th>2</th>\n",
       "      <td>0.2</td>\n",
       "      <td>300.804008</td>\n",
       "      <td>78.130413</td>\n",
       "      <td>220.201423</td>\n",
       "      <td>620.611931</td>\n",
       "    </tr>\n",
       "    <tr>\n",
       "      <th>3</th>\n",
       "      <td>0.3</td>\n",
       "      <td>150.983149</td>\n",
       "      <td>39.216152</td>\n",
       "      <td>110.526134</td>\n",
       "      <td>311.504970</td>\n",
       "    </tr>\n",
       "    <tr>\n",
       "      <th>4</th>\n",
       "      <td>0.4</td>\n",
       "      <td>92.583294</td>\n",
       "      <td>24.047455</td>\n",
       "      <td>67.774938</td>\n",
       "      <td>191.015728</td>\n",
       "    </tr>\n",
       "  </tbody>\n",
       "</table>\n",
       "</div>"
      ],
      "text/plain": [
       "    Sw           A     Pc_2000      Pc_200        Pc_20\n",
       "0  0.0         inf         inf         inf          inf\n",
       "1  0.1  977.315106  253.846461  715.436533  2016.374114\n",
       "2  0.2  300.804008   78.130413  220.201423   620.611931\n",
       "3  0.3  150.983149   39.216152  110.526134   311.504970\n",
       "4  0.4   92.583294   24.047455   67.774938   191.015728"
      ]
     },
     "execution_count": 20,
     "metadata": {},
     "output_type": "execute_result"
    }
   ],
   "source": [
    "df4['Pc_2000'] = Pc (df4['A'], CPS_2k, c1)\n",
    "df4['Pc_200'] = Pc (df4['A'], CPS_200, c1)\n",
    "df4['Pc_20'] = Pc (df4['A'], CPS_20, c1)\n",
    "df4.head()"
   ]
  },
  {
   "cell_type": "code",
   "execution_count": 23,
   "metadata": {},
   "outputs": [
    {
     "data": {
      "image/png": "[encoded data removed]",
      "text/plain": [
       "<Figure size 360x576 with 1 Axes>"
      ]
     },
     "metadata": {
      "needs_background": "light"
     },
     "output_type": "display_data"
    }
   ],
   "source": [
    "fig, ax = plt.subplots(figsize=(5,8))\n",
    "ax.plot(df4['Sw'], df4['Pc_2000'], color='red', linestyle = '-')\n",
    "ax.plot(df4['Sw'], df4['Pc_200'], color='yellow', linestyle = '-')\n",
    "ax.plot(df4['Sw'], df4['Pc_20'], color='darkgreen', linestyle = '-')\n",
    "ax.set_ylabel('Capillary Pressure')\n",
    "ax.set_xlabel('Water Saturation')\n",
    "ax.set_xlim(0,1)\n",
    "ax.set_ylim(0,300)\n",
    "ax.grid()"
   ]
  },
  {
   "cell_type": "code",
   "execution_count": null,
   "metadata": {},
   "outputs": [],
   "source": []
  }
 ],
 "metadata": {
  "kernelspec": {
   "display_name": "Python 3",
   "language": "python",
   "name": "python3"
  },
  "language_info": {
   "codemirror_mode": {
    "name": "ipython",
    "version": 3
   },
   "file_extension": ".py",
   "mimetype": "text/x-python",
   "name": "python",
   "nbconvert_exporter": "python",
   "pygments_lexer": "ipython3",
   "version": "3.8.3"
  }
 },
 "nbformat": 4,
 "nbformat_minor": 4
}
